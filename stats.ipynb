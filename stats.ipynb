{
 "cells": [
  {
   "cell_type": "markdown",
   "metadata": {},
   "source": [
    "https://openbook4.me/projects/183/sections/1367\n",
    "## t検定とは、\n",
    "* 数十件程度のデータでも正確にz検定を行えるようにしたもの\n",
    "* 「平均値の差」が「平均値の差の標準誤差」の何倍かを考えて、それがどれほどありえないか、つまり、p値をもとめるためのもの\n",
    "\n",
    "標本が大きい時(三十件以上)は、平均値の差が正規分布になるため、 z検定をつかうことができる。しかし、標本が小さくなってくると、平均値の差が正規分布の形ではなく、t分布になってくる。\n",
    "つまり、標本が小さいときはz検定ではなく、t検定をつかわなければならない。\n",
    "ちなみに、標本が大きい時は、z検定とt検定の結果は一致するので、基本的にt検定を使う。\n",
    "\n",
    "### p値とは\n",
    "- 帰無仮説(棄却されることを期待される仮説)が正しいと仮定したときに出る確率である。p値がおおよそ0.05を下回るとき、仮説はありえないとされ、棄却される。\n",
    "\n",
    "何を言ってるかわからないと思うので、具体的にt検定を行い、平均値に差が、あるかどうかをたしかめてみる。"
   ]
  },
  {
   "cell_type": "code",
   "execution_count": null,
   "metadata": {
    "collapsed": false
   },
   "outputs": [],
   "source": [
    "from pandas import DataFrame\n",
    "from scipy import stats\n",
    "import numpy as np\n",
    "\n",
    "data = {'国語':  [68, 75, 80, 71, 73, 79, 69, 65],\n",
    "        '数学': [86, 83, 76, 81, 75, 82, 87, 75],\n",
    "        '理科' : [85, 69, 77, 77, 75, 74, 87, 69],\n",
    "        '英語': [80, 76, 84, 93, 76, 80, 79, 84]}\n",
    "df = DataFrame(data, index = [\"生徒\" + str(i+1)  for i  in np.arange(8)])\n",
    "df"
   ]
  },
  {
   "cell_type": "code",
   "execution_count": null,
   "metadata": {
    "collapsed": false
   },
   "outputs": [],
   "source": [
    "t, p = stats.ttest_rel(df['国語'], df['数学'])\n",
    "print( \"p値 = %(p)s\" %locals() )"
   ]
  },
  {
   "cell_type": "markdown",
   "metadata": {},
   "source": [
    "p値が0.05より小さいので、国語と数学の平均点には有意差があるといえる。"
   ]
  },
  {
   "cell_type": "code",
   "execution_count": null,
   "metadata": {
    "collapsed": false
   },
   "outputs": [],
   "source": [
    "t, p = stats.ttest_rel(df['理科'], df['英語'])\n",
    "print( \"p値 = %(p)s\" %locals() )"
   ]
  },
  {
   "cell_type": "markdown",
   "metadata": {},
   "source": [
    "p値が0.05より大きいので、理科と英語の平均点には有意差があるとはいえない。\n",
    "\n",
    "上記に関して、有意差がない、とは言えないので注意。"
   ]
  },
  {
   "cell_type": "markdown",
   "metadata": {},
   "source": [
    "## Welchのt検定\n",
    "もし比較するデータに対応がない場合、等分散かどうか調べ、等分散ではなかった場合、 Welchのt検定を行う必要がある。\n",
    "\n",
    "ためしに、各科目の点数は同じ生徒ではなくそれぞれ別の生徒の点数だとして、 対応がない場合を考えてみよう\n",
    "\n",
    "等分散かどうか調べるために、F値をまず求める。"
   ]
  },
  {
   "cell_type": "code",
   "execution_count": null,
   "metadata": {
    "collapsed": false
   },
   "outputs": [],
   "source": [
    "#分子に大きい数値をとる\n",
    "f = np.var(df['国語']) / np.var(df['数学'])\n",
    "dfx = len(df['国語']) - 1\n",
    "dfy = len(df['数学']) - 1\n",
    "p_value = stats.f.cdf(f, dfx, dfy)\n",
    "print(\"F値 = %(f)s\" %locals())\n",
    "print(\"dfx 自由度 %(dfx)s\" %locals())\n",
    "print(\"dfy 自由度 %(dfy)s\" %locals())\n",
    "print(\"p値 = %(p_value)s\" %locals())"
   ]
  },
  {
   "cell_type": "markdown",
   "metadata": {},
   "source": [
    "p値が0.05より大きくなったので、非等分散とはいえない、という曖昧な答えになったが、 等分散として考える"
   ]
  },
  {
   "cell_type": "markdown",
   "metadata": {},
   "source": [
    "t検定をするとき、等分散かどうかのoption(equal_var)をつけたいときは、 scipyのstatsのttest_relではなく、statsのttest_indを使う。"
   ]
  },
  {
   "cell_type": "code",
   "execution_count": null,
   "metadata": {
    "collapsed": false
   },
   "outputs": [],
   "source": [
    "t, p = stats.ttest_ind(df['国語'], df['数学'], equal_var = True)\n",
    "print( \"p値 = %(p)s\" %locals() )"
   ]
  },
  {
   "cell_type": "markdown",
   "metadata": {},
   "source": [
    "よって、p値が0.0062 (< 0.05)なので、この場合も有意差があるとわかった。"
   ]
  },
  {
   "cell_type": "code",
   "execution_count": null,
   "metadata": {
    "collapsed": true
   },
   "outputs": [],
   "source": []
  }
 ],
 "metadata": {
  "kernelspec": {
   "display_name": "Python 3",
   "language": "python",
   "name": "python3"
  },
  "language_info": {
   "codemirror_mode": {
    "name": "ipython",
    "version": 3
   },
   "file_extension": ".py",
   "mimetype": "text/x-python",
   "name": "python",
   "nbconvert_exporter": "python",
   "pygments_lexer": "ipython3",
   "version": "3.5.2"
  }
 },
 "nbformat": 4,
 "nbformat_minor": 0
}
