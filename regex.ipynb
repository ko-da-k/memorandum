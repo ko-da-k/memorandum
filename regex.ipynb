{
 "cells": [
  {
   "cell_type": "code",
   "execution_count": 1,
   "metadata": {
    "collapsed": true
   },
   "outputs": [],
   "source": [
    "import re"
   ]
  },
  {
   "cell_type": "markdown",
   "metadata": {},
   "source": [
    "正規表現には2パターン\n",
    "- 事前に検索パターンをコンパイルする場合\n",
    "    - 同じパターンで何度も検索する場合に、高速で検索可能\n",
    "- コンパイルせず、検索時にパターンを設定する方法\n",
    "    - 検索パターンを使い回すことがない場合に使う\n",
    "\n",
    "rを先頭につける理由は、バックスラッシュ等の記号をそのまま扱えるから"
   ]
  },
  {
   "cell_type": "code",
   "execution_count": 2,
   "metadata": {
    "collapsed": false
   },
   "outputs": [],
   "source": [
    "pattern = r\"ca\"\n",
    "text = \"caabsacasca\"\n",
    "repattern = re.compile(pattern)\n",
    "match = repattern.match(text)"
   ]
  },
  {
   "cell_type": "code",
   "execution_count": 3,
   "metadata": {
    "collapsed": true
   },
   "outputs": [],
   "source": [
    "pattern = r\"ca\"\n",
    "text = \"caabsacasca\"\n",
    "match = re.match(pattern,text)"
   ]
  },
  {
   "cell_type": "markdown",
   "metadata": {},
   "source": [
    "- match(pattern, string)\n",
    "    - 文字列の先頭で正規表現とマッチするか判定\n",
    "- search(pattern, string)\n",
    "    - 文字列を操作して、正規表現がどこにマッチするか調べる\n",
    "- findall(pattern, string)\n",
    "    - 正規表現にマッチする部分文字列をすべて探し出し、リストとして返す\n",
    "- finditer(pattern, string)\n",
    "    - 正規表現にマッチする部分文字列をすべて探し出し、iteratorとして返す\n",
    "- split(pattern, string)\n",
    "    - 正規表現にマッチする部分があるたびに分割\n",
    "- sub(pattern, repl, string)\n",
    "    - 正規表現にマッチする部分をreplに置き換える"
   ]
  },
  {
   "cell_type": "code",
   "execution_count": 4,
   "metadata": {
    "collapsed": false
   },
   "outputs": [
    {
     "name": "stdout",
     "output_type": "stream",
     "text": [
      "ca\n"
     ]
    }
   ],
   "source": [
    "pattern = r\"ca\"\n",
    "text = \"caabsacasca\"\n",
    "match = re.match(pattern,text)\n",
    "if match:\n",
    "    print(match.group())"
   ]
  },
  {
   "cell_type": "markdown",
   "metadata": {},
   "source": [
    "- group()\n",
    "    - 正規表現にマッチした文字列を返す\n",
    "- start()\n",
    "    - マッチの開始位置を返す\n",
    "- end()\n",
    "    - マッチの終了位置を返す\n",
    "- span()\n",
    "    - マッチの位置を含むタプルを返す"
   ]
  },
  {
   "cell_type": "code",
   "execution_count": 5,
   "metadata": {
    "collapsed": false
   },
   "outputs": [
    {
     "name": "stdout",
     "output_type": "stream",
     "text": [
      "<_sre.SRE_Match object; span=(0, 2), match='ca'>\n",
      "ca\n",
      "0\n",
      "2\n",
      "(0, 2)\n"
     ]
    }
   ],
   "source": [
    "pattern = r\"ca\"\n",
    "text = \"caabsacasca\"\n",
    "match = re.search(pattern,text)\n",
    "if match:\n",
    "    print(match)\n",
    "    print(match.group())\n",
    "    print(match.start())\n",
    "    print(match.end())\n",
    "    print(match.span())"
   ]
  },
  {
   "cell_type": "code",
   "execution_count": 6,
   "metadata": {
    "collapsed": false
   },
   "outputs": [
    {
     "name": "stdout",
     "output_type": "stream",
     "text": [
      "['ca', 'ca', 'ca']\n"
     ]
    }
   ],
   "source": [
    "pattern = r\"ca\"\n",
    "text = \"caabsacasca\"\n",
    "match = re.findall(pattern,text)\n",
    "if match:\n",
    "    print(match)"
   ]
  },
  {
   "cell_type": "code",
   "execution_count": 7,
   "metadata": {
    "collapsed": false
   },
   "outputs": [
    {
     "name": "stdout",
     "output_type": "stream",
     "text": [
      "ca\n",
      "0\n",
      "2\n",
      "(0, 2)\n",
      "ca\n",
      "6\n",
      "8\n",
      "(6, 8)\n",
      "ca\n",
      "9\n",
      "11\n",
      "(9, 11)\n"
     ]
    }
   ],
   "source": [
    "pattern = r\"ca\"\n",
    "text = \"caabsacasca\"\n",
    "iterator = re.finditer(pattern,text)\n",
    "if iterator:\n",
    "    for match in iterator:\n",
    "        print(match.group())\n",
    "        print(match.start())\n",
    "        print(match.end())\n",
    "        print(match.span())"
   ]
  },
  {
   "cell_type": "code",
   "execution_count": 8,
   "metadata": {
    "collapsed": false
   },
   "outputs": [
    {
     "name": "stdout",
     "output_type": "stream",
     "text": [
      "hello324 hoge321\n",
      "0\n",
      "16\n",
      "(0, 16)\n"
     ]
    }
   ],
   "source": [
    "pattern = r\"[^\\d]*(\\d+).*$\"\n",
    "text = \"hello324 hoge321\"\n",
    "iterator = re.finditer(pattern,text)\n",
    "if iterator:\n",
    "    for match in iterator:\n",
    "        print(match.group())\n",
    "        print(match.start())\n",
    "        print(match.end())\n",
    "        print(match.span())"
   ]
  },
  {
   "cell_type": "markdown",
   "metadata": {},
   "source": [
    "- []\n",
    "    - カッコの中に示されたもののいずれか\n",
    "- ^\n",
    "    - 否定（[]の外で使うと、行の先頭という意味）\n",
    "- ()\n",
    "    - マッチには関与せず、（）の中の箇所を抽出\n",
    "- .\n",
    "    - なんでもいい\n",
    "- $\n",
    "    - 文末\n",
    "- \\d\n",
    "    - 数字\n",
    "- \\s\n",
    "    - 空白（タブ含む）"
   ]
  },
  {
   "cell_type": "code",
   "execution_count": 9,
   "metadata": {
    "collapsed": false
   },
   "outputs": [
    {
     "name": "stdout",
     "output_type": "stream",
     "text": [
      "2015 10 Aug 23:01:14 Hello World\n"
     ]
    }
   ],
   "source": [
    "pattern = r\"(\\d+)\\s(\\d+)\\s([A-z]+)\\s(\\d+):(\\d+):(\\d+)\\s([A-z\\s]+)\"\n",
    "text = \"2015 10 Aug 23:01:14 Hello World\"\n",
    "match = re.match(pattern,text)\n",
    "if match:\n",
    "    print(match.group())"
   ]
  },
  {
   "cell_type": "code",
   "execution_count": 10,
   "metadata": {
    "collapsed": false
   },
   "outputs": [
    {
     "name": "stdout",
     "output_type": "stream",
     "text": [
      "私は鳥です\n"
     ]
    }
   ],
   "source": [
    "pattern = r\"私は.です\"\n",
    "text = \"私は鳥です\"\n",
    "match = re.match(pattern, text)\n",
    "if match:\n",
    "    print(match.group())"
   ]
  },
  {
   "cell_type": "code",
   "execution_count": 11,
   "metadata": {
    "collapsed": false
   },
   "outputs": [
    {
     "name": "stdout",
     "output_type": "stream",
     "text": [
      "ありがとう\n",
      "0\n",
      "5\n",
      "(0, 5)\n"
     ]
    }
   ],
   "source": [
    "pattern = r\"^ありがとう\"\n",
    "text = [\"今日はありがとうございました\", \"ずっとありがとう\",\"ありがとうありがとう\"]\n",
    "iterator = [re.match(pattern,t) for t in text]\n",
    "if iterator:\n",
    "    for match in iterator:\n",
    "        if match:\n",
    "            print(match.group())\n",
    "            print(match.start())\n",
    "            print(match.end())\n",
    "            print(match.span())"
   ]
  },
  {
   "cell_type": "code",
   "execution_count": 12,
   "metadata": {
    "collapsed": false
   },
   "outputs": [
    {
     "name": "stdout",
     "output_type": "stream",
     "text": [
      "おーい\n",
      "0\n",
      "3\n",
      "(0, 3)\n",
      "おーーーーーい\n",
      "0\n",
      "7\n",
      "(0, 7)\n",
      "おい\n",
      "0\n",
      "2\n",
      "(0, 2)\n"
     ]
    }
   ],
   "source": [
    "pattern = r\"おー*い\"\n",
    "text = [\"おーい\", \"おーーーーーい\",\"おいおい\"]\n",
    "iterator = [re.match(pattern,t) for t in text]\n",
    "if iterator:\n",
    "    for match in iterator:\n",
    "        if match:\n",
    "            print(match.group())\n",
    "            print(match.start())\n",
    "            print(match.end())\n",
    "            print(match.span())"
   ]
  },
  {
   "cell_type": "code",
   "execution_count": 13,
   "metadata": {
    "collapsed": false
   },
   "outputs": [
    {
     "name": "stdout",
     "output_type": "stream",
     "text": [
      "おーい\n",
      "0\n",
      "3\n",
      "(0, 3)\n",
      "おーーーーーい\n",
      "0\n",
      "7\n",
      "(0, 7)\n"
     ]
    }
   ],
   "source": [
    "pattern = r\"おー+い\"\n",
    "text = [\"おーい\", \"おーーーーーい\",\"おいおい\"]\n",
    "iterator = [re.match(pattern,t) for t in text]\n",
    "if iterator:\n",
    "    for match in iterator:\n",
    "        if match:\n",
    "            print(match.group())\n",
    "            print(match.start())\n",
    "            print(match.end())\n",
    "            print(match.span())"
   ]
  },
  {
   "cell_type": "code",
   "execution_count": 14,
   "metadata": {
    "collapsed": false
   },
   "outputs": [
    {
     "name": "stdout",
     "output_type": "stream",
     "text": [
      "おーい\n",
      "0\n",
      "3\n",
      "(0, 3)\n",
      "おい\n",
      "0\n",
      "2\n",
      "(0, 2)\n"
     ]
    }
   ],
   "source": [
    "pattern = r\"おー?い\"\n",
    "text = [\"おーい\", \"おーーーーーい\",\"おいおい\"]\n",
    "iterator = [re.match(pattern,t) for t in text]\n",
    "if iterator:\n",
    "    for match in iterator:\n",
    "        if match:\n",
    "            print(match.group())\n",
    "            print(match.start())\n",
    "            print(match.end())\n",
    "            print(match.span())"
   ]
  },
  {
   "cell_type": "markdown",
   "metadata": {},
   "source": [
    "- *\n",
    "    - 直前の文字がないか、直前の文字が一個以上連続\n",
    "- +\n",
    "    - 最低でも一個は直前の文字があって、それが連続\n",
    "- ?\n",
    "    - 直前の文字が全くないか、一個だけ存在"
   ]
  },
  {
   "cell_type": "code",
   "execution_count": 15,
   "metadata": {
    "collapsed": false
   },
   "outputs": [
    {
     "name": "stdout",
     "output_type": "stream",
     "text": [
      "君が好きかもしれないですけどやっぱりそうですですです\n",
      "0\n",
      "26\n",
      "(0, 26)\n"
     ]
    }
   ],
   "source": [
    "pattern = r\"君が好き.*です\"\n",
    "text = \"君が好きかもしれないですけどやっぱりそうですですです。\"\n",
    "match = re.search(pattern,text)\n",
    "if match:\n",
    "    print(match.group())\n",
    "    print(match.start())\n",
    "    print(match.end())\n",
    "    print(match.span())"
   ]
  },
  {
   "cell_type": "markdown",
   "metadata": {},
   "source": [
    "文末まで全て検索されることに注意"
   ]
  },
  {
   "cell_type": "code",
   "execution_count": 16,
   "metadata": {
    "collapsed": false
   },
   "outputs": [
    {
     "name": "stdout",
     "output_type": "stream",
     "text": [
      "じゃじゃじゃーん\n",
      "0\n",
      "8\n",
      "(0, 8)\n"
     ]
    }
   ],
   "source": [
    "pattern = r\"(じゃ)+ーん\"\n",
    "text = [\"じゃじゃじゃーん\", \"じゃじーん\",\"じゃじゃまるーん\"]\n",
    "iterator = [re.match(pattern,t) for t in text]\n",
    "if iterator:\n",
    "    for match in iterator:\n",
    "        if match:\n",
    "            print(match.group())\n",
    "            print(match.start())\n",
    "            print(match.end())\n",
    "            print(match.span())"
   ]
  },
  {
   "cell_type": "code",
   "execution_count": null,
   "metadata": {
    "collapsed": true
   },
   "outputs": [],
   "source": []
  }
 ],
 "metadata": {
  "kernelspec": {
   "display_name": "Python 3",
   "language": "python",
   "name": "python3"
  },
  "language_info": {
   "codemirror_mode": {
    "name": "ipython",
    "version": 3
   },
   "file_extension": ".py",
   "mimetype": "text/x-python",
   "name": "python",
   "nbconvert_exporter": "python",
   "pygments_lexer": "ipython3",
   "version": "3.5.1"
  }
 },
 "nbformat": 4,
 "nbformat_minor": 0
}
