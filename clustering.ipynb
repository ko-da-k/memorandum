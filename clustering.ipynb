{
 "cells": [
  {
   "cell_type": "code",
   "execution_count": null,
   "metadata": {
    "collapsed": true
   },
   "outputs": [],
   "source": [
    "%matplotlib inline"
   ]
  },
  {
   "cell_type": "code",
   "execution_count": null,
   "metadata": {
    "collapsed": false
   },
   "outputs": [],
   "source": [
    "import numpy as np\n",
    "import pandas as pd\n",
    "import seaborn as sns\n",
    "import matplotlib.pyplot as plt\n",
    "from sklearn import datasets\n",
    "from sklearn.cluster import KMeans\n",
    "from sklearn.decomposition import PCA\n",
    "from sklearn.metrics import v_measure_score\n",
    "from scipy.cluster.hierarchy import linkage, dendrogram, fcluster, cophenet, ward\n",
    "from scipy.spatial.distance import pdist\n",
    "from mpl_toolkits.mplot3d import Axes3D"
   ]
  },
  {
   "cell_type": "markdown",
   "metadata": {},
   "source": [
    "### irisデータセットの読み込み\n",
    "中身は4つの特徴ベクトルからなる3種類50個ずつのデータ"
   ]
  },
  {
   "cell_type": "code",
   "execution_count": null,
   "metadata": {
    "collapsed": false
   },
   "outputs": [],
   "source": [
    "iris = datasets.load_iris()\n",
    "print(iris.data)\n",
    "print(iris.target)"
   ]
  },
  {
   "cell_type": "markdown",
   "metadata": {},
   "source": [
    "試しに、1つめと2つめを特徴ベクトルとして2次元にマッピング"
   ]
  },
  {
   "cell_type": "code",
   "execution_count": null,
   "metadata": {
    "collapsed": false
   },
   "outputs": [],
   "source": [
    "for i in range(0,len(iris.data)):\n",
    "    if iris.target[i] == 0:\n",
    "        plt.plot(iris.data[i][0], iris.data[i][1], \"ro\")\n",
    "    elif iris.target[i] == 1:\n",
    "        plt.plot(iris.data[i][0], iris.data[i][1], \"go\")\n",
    "    elif iris.target[i] == 2:\n",
    "        plt.plot(iris.data[i][0], iris.data[i][1], \"bo\")\n",
    "plt.show()"
   ]
  },
  {
   "cell_type": "markdown",
   "metadata": {},
   "source": [
    "PCA(主成分分析)で3次元にしたデータを可視化。\n",
    "3次元にした時の累積寄与率も表示"
   ]
  },
  {
   "cell_type": "code",
   "execution_count": null,
   "metadata": {
    "collapsed": false
   },
   "outputs": [],
   "source": [
    "pca = PCA(n_components=3)\n",
    "pca.fit(iris.data)\n",
    "data_reduced = pca.transform(iris.data)\n",
    "print(\"explained : %f\" % np.cumsum(pca.explained_variance_ratio_)[::-1][0])"
   ]
  },
  {
   "cell_type": "code",
   "execution_count": null,
   "metadata": {
    "collapsed": false
   },
   "outputs": [],
   "source": [
    "print(iris.data[0:3])\n",
    "print(data_reduced[0:3])"
   ]
  },
  {
   "cell_type": "code",
   "execution_count": null,
   "metadata": {
    "collapsed": false
   },
   "outputs": [],
   "source": [
    "fig = plt.figure(1, figsize=(8, 6))\n",
    "ax = Axes3D(fig, elev=-150, azim=110)\n",
    "for i in range(0,len(iris.data)):\n",
    "    if iris.target[i] == 0:\n",
    "        ax.scatter(data_reduced[i, 0], data_reduced[i, 1], data_reduced[i, 2], color=\"r\")\n",
    "    elif iris.target[i] == 1:\n",
    "        ax.scatter(data_reduced[i, 0], data_reduced[i, 1], data_reduced[i, 2], color=\"g\")\n",
    "    elif iris.target[i] == 2:\n",
    "        ax.scatter(data_reduced[i, 0], data_reduced[i, 1], data_reduced[i, 2], color=\"b\")\n",
    "ax.set_title(\"First three PCA directions\")\n",
    "ax.set_xlabel(\"1st eigenvector\")\n",
    "ax.w_xaxis.set_ticklabels([])\n",
    "ax.set_ylabel(\"2nd eigenvector\")\n",
    "ax.w_yaxis.set_ticklabels([])\n",
    "ax.set_zlabel(\"3rd eigenvector\")\n",
    "ax.w_zaxis.set_ticklabels([])"
   ]
  },
  {
   "cell_type": "markdown",
   "metadata": {},
   "source": [
    "k-means法でクラスタリング\n",
    "クラスタ数は3で行ってみる"
   ]
  },
  {
   "cell_type": "code",
   "execution_count": null,
   "metadata": {
    "collapsed": false
   },
   "outputs": [],
   "source": [
    "clf = KMeans(n_clusters=3,n_jobs=-1,max_iter=1000,n_init=100)\n",
    "clf.fit(data_reduced)"
   ]
  },
  {
   "cell_type": "code",
   "execution_count": null,
   "metadata": {
    "collapsed": false
   },
   "outputs": [],
   "source": [
    "fig = plt.figure(1, figsize=(8, 6))\n",
    "ax = Axes3D(fig, elev=-150, azim=110)\n",
    "for i in range(0,len(iris.data)):\n",
    "    if clf.labels_[i] == 0:\n",
    "        ax.scatter(data_reduced[i, 0], data_reduced[i, 1], data_reduced[i, 2], color=\"r\")\n",
    "    elif clf.labels_[i] == 1:\n",
    "        ax.scatter(data_reduced[i, 0], data_reduced[i, 1], data_reduced[i, 2], color=\"g\")\n",
    "    elif clf.labels_[i] == 2:\n",
    "        ax.scatter(data_reduced[i, 0], data_reduced[i, 1], data_reduced[i, 2], color=\"b\")\n",
    "\n",
    "ax.set_title(\"K-means result\")\n",
    "ax.set_xlabel(\"1st eigenvector\")\n",
    "ax.w_xaxis.set_ticklabels([])\n",
    "ax.set_ylabel(\"2nd eigenvector\")\n",
    "ax.w_yaxis.set_ticklabels([])\n",
    "ax.set_zlabel(\"3rd eigenvector\")\n",
    "ax.w_zaxis.set_ticklabels([])"
   ]
  },
  {
   "cell_type": "markdown",
   "metadata": {},
   "source": [
    "クラスタの内的妥当性尺度である\n",
    "* クラスタ内距離二乗和\n",
    "* pseudoF\n",
    "\n",
    "の実装"
   ]
  },
  {
   "cell_type": "code",
   "execution_count": null,
   "metadata": {
    "collapsed": true
   },
   "outputs": [],
   "source": [
    "def make_cluster(data: np.ndarray, label: np.ndarray):\n",
    "    \"\"\"\n",
    "    クラスタリングのラベルをもとにクラスタのリストを作る\n",
    "    :param data: クラスタリングされたデータ\n",
    "    :param label: クラスタリング結果の配列\n",
    "    :return: クラスタごとのデータ集合、クラスタごとの重心\n",
    "    \"\"\"\n",
    "\n",
    "    def sort_smart(lists: list):\n",
    "        def smart(lists: list):\n",
    "            \"\"\"A1 A10 A2みたいなものをスマートに並び替える\"\"\"\n",
    "            convert = lambda text: int(text) if text.isdigit() else text\n",
    "            alphanum_key = lambda key: [convert(c) for c in re.split('([0-9]+)', key)]\n",
    "            lists.sort(key=alphanum_key)\n",
    "            return lists\n",
    "        try:\n",
    "            return smart(lists)\n",
    "        except:\n",
    "            return sorted(lists)\n",
    "\n",
    "    keys = sort_smart(set(label))\n",
    "    index = [np.where(label == key)[0] for key in keys]\n",
    "\n",
    "    cluster = [data[index[i]] for i in range(0, len(index))]\n",
    "    c_mean = np.array([np.mean(c, axis=0) for c in cluster])\n",
    "\n",
    "    return cluster, c_mean\n",
    "\n",
    "\n",
    "def cluster_sum_of_square(data: np.ndarray, label: np.ndarray):\n",
    "    \"\"\"\n",
    "    クラスタ内距離二乗和を求める関数\n",
    "    :param data: クラスタリングされたデータ\n",
    "    :param label: クラスタリング結果の配列\n",
    "    :return: 距離\n",
    "    \"\"\"\n",
    "    cluster, c_mean = make_cluster(data, label)\n",
    "    dis = [[np.linalg.norm(cluster[i][j] - c_mean[i]) ** 2 for j in range(0, len(cluster[i]))]\n",
    "           for i in range(0, len(c_mean))]\n",
    "    return np.sum([np.sum(d) for d in dis])\n",
    "\n",
    "\n",
    "def pseudof(data: np.ndarray, label: np.ndarray):\n",
    "    \"\"\"\n",
    "    pseudofはクラスタリングの内的妥当性尺度\n",
    "    :param data: クラスタリングされたデータ\n",
    "    :param label: クラスタリング結果の配列\n",
    "    :return:高いほど妥当性が高い\n",
    "    \"\"\"\n",
    "    cluster, c_mean = make_cluster(data, label)\n",
    "    k = len(c_mean)\n",
    "    n = len(data)\n",
    "    d_all = cluster_sum_of_square(data, np.zeros(len(data)))\n",
    "    d_cluster = cluster_sum_of_square(data, label)\n",
    "    return ((d_all - d_cluster) / (k - 1)) / (d_cluster / (n - k))\n"
   ]
  },
  {
   "cell_type": "markdown",
   "metadata": {},
   "source": [
    "クラスタの重心があっているか確認"
   ]
  },
  {
   "cell_type": "code",
   "execution_count": null,
   "metadata": {
    "collapsed": false
   },
   "outputs": [],
   "source": [
    "cluster, c_mean = make_cluster(data_reduced,clf.labels_)\n",
    "print(c_mean)\n",
    "print(clf.cluster_centers_)"
   ]
  },
  {
   "cell_type": "code",
   "execution_count": null,
   "metadata": {
    "collapsed": false
   },
   "outputs": [],
   "source": [
    "cluster_sum_of_square(data_reduced,clf.labels_)"
   ]
  },
  {
   "cell_type": "code",
   "execution_count": null,
   "metadata": {
    "collapsed": false
   },
   "outputs": [],
   "source": [
    "pseudof(data_reduced,clf.labels_)"
   ]
  },
  {
   "cell_type": "markdown",
   "metadata": {},
   "source": [
    "階層的クラスタリングでも確認\n",
    "pdistを自作距離から改変することでいい結果が得られそう"
   ]
  },
  {
   "cell_type": "code",
   "execution_count": null,
   "metadata": {
    "collapsed": false
   },
   "outputs": [],
   "source": [
    "from clustering import HAC"
   ]
  },
  {
   "cell_type": "code",
   "execution_count": null,
   "metadata": {
    "collapsed": false
   },
   "outputs": [],
   "source": [
    "ac = HAC(iris.data,iris.target)"
   ]
  },
  {
   "cell_type": "code",
   "execution_count": null,
   "metadata": {
    "collapsed": false
   },
   "outputs": [],
   "source": [
    "dis = [jsd(iris.data[i],iris.data[j]) for i in range(0,len(iris.data) - 1)\n",
    "       for j in range(i + 1,len(iris.data))]"
   ]
  },
  {
   "cell_type": "code",
   "execution_count": null,
   "metadata": {
    "collapsed": false
   },
   "outputs": [],
   "source": [
    "ac.set_distance_array(dis,\"average\")"
   ]
  },
  {
   "cell_type": "code",
   "execution_count": null,
   "metadata": {
    "collapsed": false
   },
   "outputs": [],
   "source": [
    "ac.draw_dendrogram(p=4, truncate_mode='lastp')\n",
    "ac.clustering(4)"
   ]
  },
  {
   "cell_type": "code",
   "execution_count": null,
   "metadata": {
    "collapsed": false
   },
   "outputs": [],
   "source": [
    "cluster_sum_of_square(data_reduced,ac.pred)"
   ]
  },
  {
   "cell_type": "code",
   "execution_count": null,
   "metadata": {
    "collapsed": false
   },
   "outputs": [],
   "source": [
    "pseudof(data_reduced,ac.pred)"
   ]
  },
  {
   "cell_type": "code",
   "execution_count": null,
   "metadata": {
    "collapsed": false
   },
   "outputs": [],
   "source": [
    "v_measure_score(iris.target, ac.pred)"
   ]
  },
  {
   "cell_type": "code",
   "execution_count": null,
   "metadata": {
    "collapsed": false
   },
   "outputs": [],
   "source": [
    "pf = []\n",
    "cs = []\n",
    "vm = []\n",
    "for i in range(1,31):\n",
    "    ac.clustering(i)\n",
    "    cs.append(cluster_sum_of_square(data_reduced,ac.pred))\n",
    "    pf.append(pseudof(data_reduced,ac.pred))\n",
    "    vm.append(v_measure_score(iris.target, ac.pred))"
   ]
  },
  {
   "cell_type": "code",
   "execution_count": null,
   "metadata": {
    "collapsed": false
   },
   "outputs": [],
   "source": [
    "plt.plot(pf)\n",
    "plt.grid()"
   ]
  },
  {
   "cell_type": "code",
   "execution_count": null,
   "metadata": {
    "collapsed": false
   },
   "outputs": [],
   "source": [
    "plt.plot(cs)\n",
    "plt.grid()"
   ]
  },
  {
   "cell_type": "code",
   "execution_count": null,
   "metadata": {
    "collapsed": false
   },
   "outputs": [],
   "source": [
    "plt.plot(vm)\n",
    "plt.grid()"
   ]
  },
  {
   "cell_type": "markdown",
   "metadata": {},
   "source": [
    "pseudofとv-measureにおいていずれもクラスタ数3が適切であったことがわかる"
   ]
  },
  {
   "cell_type": "code",
   "execution_count": null,
   "metadata": {
    "collapsed": false
   },
   "outputs": [],
   "source": [
    "ac.set_tree_structure()"
   ]
  },
  {
   "cell_type": "code",
   "execution_count": null,
   "metadata": {
    "collapsed": false
   },
   "outputs": [],
   "source": [
    "ac.tree"
   ]
  },
  {
   "cell_type": "code",
   "execution_count": null,
   "metadata": {
    "collapsed": false
   },
   "outputs": [],
   "source": [
    "ac.c_index"
   ]
  },
  {
   "cell_type": "code",
   "execution_count": null,
   "metadata": {
    "collapsed": false
   },
   "outputs": [],
   "source": [
    "ac.get_tree_structure(140)"
   ]
  },
  {
   "cell_type": "code",
   "execution_count": null,
   "metadata": {
    "collapsed": false
   },
   "outputs": [],
   "source": [
    "iris.data[[1,2,3]]"
   ]
  },
  {
   "cell_type": "code",
   "execution_count": null,
   "metadata": {
    "collapsed": true
   },
   "outputs": [],
   "source": [
    "def pseudot(cls1: np.ndarray, cls2: np.ndarray):\n",
    "    sum_cls1 = cluster_sum_of_square(cls1,np.zeros(len(cls1)))\n",
    "    sum_cls2 = cluster_sum_of_square(cls2,np.zeros(len(cls2)))\n",
    "    n_cls1 = len(cls1)\n",
    "    n_cls2 = len(cls2)\n",
    "    \n",
    "    d_cluster = cluster_sum_of_square(np.vstack([cls1,cls2]),np.zeros(len(np.vstack([cls1,cls2]))))\n",
    "    \n",
    "    return d_cluster / ((sum_cls1 + sum_cls2) / (n_cls1 + n_cls2 - 2))"
   ]
  },
  {
   "cell_type": "code",
   "execution_count": null,
   "metadata": {
    "collapsed": false
   },
   "outputs": [],
   "source": [
    "pt = []\n",
    "for i in range(0,len(ac.tree)):\n",
    "    index = ac.get_tree_structure(i)\n",
    "    cls1 = ac.train[index[0]]\n",
    "    cls2 = ac.train[index[1]]\n",
    "    \n",
    "    pt.append(pseudot(cls1,cls2))\n",
    "    \n",
    "plt.plot(list(reversed((range(0,len(pt))))),pt)\n",
    "plt.xlim(0,10)"
   ]
  },
  {
   "cell_type": "markdown",
   "metadata": {},
   "source": [
    "\n",
    "### 以下備忘録"
   ]
  },
  {
   "cell_type": "code",
   "execution_count": null,
   "metadata": {
    "collapsed": false
   },
   "outputs": [],
   "source": [
    "import numpy as np\n",
    "from scipy import stats\n",
    "\n",
    "\n",
    "def kl(w1,w2):\n",
    "    return stats.entropy(w1, w2, 2)\n",
    "\n",
    "def js(w1, w2):\n",
    "    r = (w1 + w2) / 2\n",
    "    return 0.5 * (stats.entropy(w1, r, 2) + stats.entropy(w2, r, 2))\n",
    "\n",
    "eat = np.array([0.9, 0.1])\n",
    "devour = np.array([0.8, 0.2])\n",
    "drink = np.array([0.1, 0.9])\n",
    "\n",
    "print(\"kl divergence\")\n",
    "print(kl(devour, eat))\n",
    "print(kl(devour, drink))\n",
    "\n",
    "print(\"js divergence\")\n",
    "print(js(devour, eat))\n",
    "print(js(devour, drink))"
   ]
  },
  {
   "cell_type": "code",
   "execution_count": null,
   "metadata": {
    "collapsed": false
   },
   "outputs": [],
   "source": [
    "import numpy as np\n",
    "import scipy.spatial.distance as distance\n",
    "import matplotlib.pyplot as plt\n",
    "from scipy.cluster.hierarchy import linkage, dendrogram\n",
    "from random import random\n",
    "from pandas import DataFrame, Series\n",
    " \n",
    "#10行10列のランダム行列生成\n",
    "n = 10\n",
    "data = [[random() for i in range(n)] for i in range(n)]\n",
    " \n",
    "#距離行列生成\n",
    "dMatrix = np.zeros([n, n])\n",
    "for i in range(n):\n",
    "    for j in range(n):\n",
    "        dMatrix[i, j] = distance.chebyshev(data[i], data[j]) #チェビシェフ距離をとる\n",
    " \n",
    "#距離ベクトル生成\n",
    "dArray = distance.squareform(dMatrix)\n",
    " \n",
    "#クラスタリング\n",
    "result = linkage(dArray, method = 'average')\n",
    " \n",
    "#図示\n",
    "dendrogram(result)\n",
    "dArray"
   ]
  },
  {
   "cell_type": "code",
   "execution_count": null,
   "metadata": {
    "collapsed": false
   },
   "outputs": [],
   "source": [
    "n = 100\n",
    "dim = 10\n",
    "data = [[random() for i in range(dim)] for i in range(n)]\n",
    "result1 = linkage(data, metric = 'chebyshev', method = 'average')\n",
    "dArray1 = distance.pdist(data, metric = 'chebyshev')\n",
    "result2 = linkage(dArray1, method = 'average')\n",
    " \n",
    "assert (result1 == result2).all()#同じ結果\n",
    "dArray2 = []\n",
    "for i in range(n - 1):\n",
    "    for j in range(i + 1, n):\n",
    "        dArray2.append(distance.chebyshev(data[i], data[j]));\n",
    "assert (dArray1 == dArray2).all()#同じもの\n",
    "dMatrix1 = np.zeros([n, n])\n",
    "for i in range(n):\n",
    "    for j in range(n):\n",
    "        dMatrix1[i, j] = distance.chebyshev(data[i], data[j])\n",
    "dArray3 = distance.squareform(dMatrix1)\n",
    "assert (dArray1 == dArray3).all()#同じもの\n",
    "dMatrix2 = distance.squareform(dArray1)\n",
    "assert (dMatrix1 == dMatrix2).all()#同じもの"
   ]
  },
  {
   "cell_type": "code",
   "execution_count": null,
   "metadata": {
    "collapsed": false
   },
   "outputs": [],
   "source": [
    "dArray1"
   ]
  },
  {
   "cell_type": "code",
   "execution_count": null,
   "metadata": {
    "collapsed": false
   },
   "outputs": [],
   "source": [
    "[distance.chebyshev(data[i],data[j]) for i in range(0,n - 1) for j in range(i + 1,n)]"
   ]
  },
  {
   "cell_type": "code",
   "execution_count": null,
   "metadata": {
    "collapsed": true
   },
   "outputs": [],
   "source": [
    "def kl(p, q):\n",
    "    return np.sum(np.where(p != 0, p * np.log2(p / q), 0))\n",
    "\n",
    "def js(p, q):\n",
    "    m = (p + q) / 2\n",
    "    return (kl(p, m) + kl(q, m)) / 2.0\n",
    "\n",
    "def kld(vec1: list, vec2: list):\n",
    "    \"\"\"Calculates Kullback–Leibler divergence\"\"\"\n",
    "    vec1 = np.array(vec1)\n",
    "    vec2 = np.array(vec2)\n",
    "    return np.sum(vec1 * np.log(vec1 / vec2), axis=(vec1.ndim - 1))\n",
    "\n",
    "def jsd(vec1: list, vec2: list):\n",
    "    \"\"\"Calculates Jensen-Shannon Divergence\"\"\"\n",
    "    vec1 = np.array(vec1)\n",
    "    vec2 = np.array(vec2)\n",
    "    m = 0.5 * (vec1 + vec2)\n",
    "    return (0.5 * kld(vec1, m) + 0.5 * kld(vec2, m))"
   ]
  },
  {
   "cell_type": "code",
   "execution_count": null,
   "metadata": {
    "collapsed": false
   },
   "outputs": [],
   "source": [
    "a = np.array([1,2,3,4,5])\n",
    "b = np.array([1,2,3,2,1])\n",
    "print(kl(a,b))\n",
    "print(kld(a,b))\n",
    "print(js(a,b))\n",
    "print(jsd(a,b))"
   ]
  },
  {
   "cell_type": "code",
   "execution_count": null,
   "metadata": {
    "collapsed": false
   },
   "outputs": [],
   "source": [
    "a*np.log(a/b)"
   ]
  },
  {
   "cell_type": "code",
   "execution_count": null,
   "metadata": {
    "collapsed": false
   },
   "outputs": [],
   "source": [
    "np.where(a != 0,a * np.log(a/b),0)"
   ]
  },
  {
   "cell_type": "code",
   "execution_count": null,
   "metadata": {
    "collapsed": false
   },
   "outputs": [],
   "source": [
    "glaph = [0.95,0.94,0.94,0.95,0.95,0.94,0.95,0.95,0.95,0.94,0.94,0.95]\n",
    "x = []\n",
    "plt.ylabel(\"F-measure\")\n",
    "plt.xlabel(\"Frequency\")\n",
    "plt.plot(glaph,\"o-\")\n",
    "plt.ylim(0,1)"
   ]
  },
  {
   "cell_type": "code",
   "execution_count": null,
   "metadata": {
    "collapsed": false
   },
   "outputs": [],
   "source": [
    "glaph = [0.76,0.88,0.82,0.82,0.79,0.75,0.75,0.77,0.63,0.61,0.51,0.46]\n",
    "x = []\n",
    "plt.ylabel(\"F-measure\")\n",
    "plt.xlabel(\"Frequency\")\n",
    "plt.plot(glaph,\"o-\")\n",
    "plt.ylim(0,1)"
   ]
  },
  {
   "cell_type": "code",
   "execution_count": null,
   "metadata": {
    "collapsed": true
   },
   "outputs": [],
   "source": [
    "from multiprocessing import Pool,Process,Queue"
   ]
  },
  {
   "cell_type": "code",
   "execution_count": null,
   "metadata": {
    "collapsed": true
   },
   "outputs": [],
   "source": [
    "pool = Pool()"
   ]
  },
  {
   "cell_type": "code",
   "execution_count": null,
   "metadata": {
    "collapsed": true
   },
   "outputs": [],
   "source": [
    "def square(x,queue):\n",
    "    queue.put(x**2)"
   ]
  },
  {
   "cell_type": "code",
   "execution_count": null,
   "metadata": {
    "collapsed": true
   },
   "outputs": [],
   "source": [
    "def add(x):\n",
    "    return x*x"
   ]
  },
  {
   "cell_type": "code",
   "execution_count": null,
   "metadata": {
    "collapsed": true
   },
   "outputs": [],
   "source": [
    "pool.map(square,list(range(0,100000)))"
   ]
  },
  {
   "cell_type": "code",
   "execution_count": null,
   "metadata": {
    "collapsed": false
   },
   "outputs": [],
   "source": [
    "q = Queue()"
   ]
  },
  {
   "cell_type": "code",
   "execution_count": null,
   "metadata": {
    "collapsed": false
   },
   "outputs": [],
   "source": [
    "ps = [Process(target=square,args=(i,q)) for i in range(0,10)]"
   ]
  },
  {
   "cell_type": "code",
   "execution_count": null,
   "metadata": {
    "collapsed": false
   },
   "outputs": [],
   "source": [
    "[p.start() for p in ps]"
   ]
  },
  {
   "cell_type": "code",
   "execution_count": null,
   "metadata": {
    "collapsed": false
   },
   "outputs": [],
   "source": [
    "a = []\n",
    "[a.append(q.get()) for p in ps]"
   ]
  },
  {
   "cell_type": "code",
   "execution_count": null,
   "metadata": {
    "collapsed": false
   },
   "outputs": [],
   "source": [
    "a=[Process(target=add,args=(i,)) for i in range(0,10)]"
   ]
  }
 ],
 "metadata": {
  "kernelspec": {
   "display_name": "Python 3",
   "language": "python",
   "name": "python3"
  },
  "language_info": {
   "codemirror_mode": {
    "name": "ipython",
    "version": 3
   },
   "file_extension": ".py",
   "mimetype": "text/x-python",
   "name": "python",
   "nbconvert_exporter": "python",
   "pygments_lexer": "ipython3",
   "version": "3.5.1"
  }
 },
 "nbformat": 4,
 "nbformat_minor": 0
}
